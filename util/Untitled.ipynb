{
 "cells": [
  {
   "cell_type": "markdown",
   "metadata": {},
   "source": [
    "In this piece of code we define a simple function (overlay_salmap). What does it do? <br\\>\n",
    "overlay_salmap get two images:\n",
    "- an actual image (a frame of a video)\n",
    "- a saliency map\n",
    "\n",
    "And it outputs the image with the saleincy map overlayed on it."
   ]
  },
  {
   "cell_type": "markdown",
   "metadata": {},
   "source": [
    "First we import the saliency map generation module"
   ]
  },
  {
   "cell_type": "code",
   "execution_count": null,
   "metadata": {
    "collapsed": false
   },
   "outputs": [],
   "source": [
    "from gen_sal_map import *"
   ]
  },
  {
   "cell_type": "code",
   "execution_count": null,
   "metadata": {
    "collapsed": false,
    "scrolled": false
   },
   "outputs": [],
   "source": [
    "fix_obj = FixationLoader()\n",
    "fixation_data = fix_obj.get_video_fixation('Data.mat')\n",
    "Z = vid_sal_map(fixation_data[0:1, :, :])\n",
    "print(Z.shape)\n",
    "\n",
    "plt.pcolor(Z[0, :, :], alpha=.2)\n",
    "plt.axes().set_aspect('equal')\n",
    "plt.xlim(0,100)\n",
    "plt.ylim(0,100)\n",
    "plt.show()"
   ]
  },
  {
   "cell_type": "markdown",
   "metadata": {},
   "source": [
    "Now we import an image and display it with the distribution shown above"
   ]
  },
  {
   "cell_type": "code",
   "execution_count": null,
   "metadata": {
    "collapsed": false
   },
   "outputs": [],
   "source": [
    "# display the image first (we can just take another frame of fixaation data as the mock image!)\n",
    "img = vid_sal_map(fixation_data[50:51, :, :])\n",
    "plt.pcolor(img[0, :, :], cmap='gray')\n",
    "plt.axes().set_aspect('equal')\n",
    "plt.xlim(0,100)\n",
    "plt.ylim(0,100)\n",
    "plt.show()"
   ]
  },
  {
   "cell_type": "code",
   "execution_count": null,
   "metadata": {
    "collapsed": false
   },
   "outputs": [],
   "source": [
    "plt.pcolor(img[0, :, :], cmap='gray')\n",
    "plt.pcolor(Z[0, :, :], alpha=.1)\n",
    "plt.axes().set_aspect('equal')\n",
    "plt.xlim(0,100)\n",
    "plt.ylim(0,100)\n",
    "plt.show()"
   ]
  },
  {
   "cell_type": "code",
   "execution_count": null,
   "metadata": {
    "collapsed": false
   },
   "outputs": [],
   "source": [
    "Z = Z.astype(np.float32)\n",
    "Z = np.concatenate((Z,Z), axis=0)\n",
    "Z = np.concatenate((Z,Z), axis=0)\n",
    "print(Z.shape)"
   ]
  },
  {
   "cell_type": "code",
   "execution_count": null,
   "metadata": {
    "collapsed": false
   },
   "outputs": [],
   "source": [
    "Z = Z.transpose(1,2,0);"
   ]
  },
  {
   "cell_type": "code",
   "execution_count": null,
   "metadata": {
    "collapsed": true
   },
   "outputs": [],
   "source": [
    "def overlay_sal_map(img, sal_map):\n",
    "    \n",
    "    cdict = {'red':   [(0.0,  0.0, 0.0),\n",
    "                       (0.5,  0.0, 0.5),\n",
    "                       (1.0,  1.0, 1.0)],\n",
    "\n",
    "             'green': [(0.0,  0.0, 0.0),\n",
    "                       (0.25, 0.0, 0.0),\n",
    "                       (0.5,  1.0, 1.0),\n",
    "                       (1.0,  0.0, 1.0)],\n",
    "\n",
    "             'blue':  [(0.0,  0.0, 1.0),\n",
    "                       (0.5,  0.0, 0.0),\n",
    "                       (1.0,  0.0, 0.0)],\n",
    "\n",
    "             'alpha':  [(0.0,  0.0, 0.0),\n",
    "                       (0.6,  0.4, 0.4),\n",
    "                       (1.0,  0.4, 0.4)]}\n",
    "    \n",
    "    my_cmap = matplotlib.colors.LinearSegmentedColormap('my_colormap',cdict,256)\n",
    "    \n",
    "    plt.imshow(img)\n",
    "    plt.imshow(sal_map, cmap=my_cmap)\n",
    "    plt.axes().set_aspect('equal')\n",
    "    plt.colorbar()\n",
    "    plt.show()"
   ]
  },
  {
   "cell_type": "markdown",
   "metadata": {},
   "source": [
    "## Summary"
   ]
  },
  {
   "cell_type": "code",
   "execution_count": 1,
   "metadata": {
    "collapsed": true
   },
   "outputs": [],
   "source": [
    "from gen_sal_map import *"
   ]
  },
  {
   "cell_type": "code",
   "execution_count": 2,
   "metadata": {
    "collapsed": false
   },
   "outputs": [
    {
     "name": "stdout",
     "output_type": "stream",
     "text": [
      "Computing saliency map for 1 frame..\n",
      "Frame 0 is done\n",
      "=== Sliency map is computed for all frames ===\n",
      "(1, 101, 101)\n"
     ]
    }
   ],
   "source": [
    "fix_obj = FixationLoader()\n",
    "fixation_data = fix_obj.get_video_fixation('Data.mat')\n",
    "Z = vid_sal_map(fixation_data[0:1, :, :])\n",
    "print(Z.shape)"
   ]
  },
  {
   "cell_type": "code",
   "execution_count": 3,
   "metadata": {
    "collapsed": false
   },
   "outputs": [
    {
     "name": "stdout",
     "output_type": "stream",
     "text": [
      "Computing saliency map for 1 frame..\n",
      "Frame 0 is done\n",
      "=== Sliency map is computed for all frames ===\n"
     ]
    }
   ],
   "source": [
    "# create an imaginary image!\n",
    "img = vid_sal_map(fixation_data[50:51, :, :])\n",
    "img1 = img.transpose(1,2,0)\n",
    "img = np.concatenate((img1,img1), axis=-1)\n",
    "img = np.concatenate((img,img1), axis=-1)"
   ]
  },
  {
   "cell_type": "code",
   "execution_count": 4,
   "metadata": {
    "collapsed": false
   },
   "outputs": [
    {
     "data": {
      "image/png": "[encoded data removed]",
      "text/plain": [
       "<matplotlib.figure.Figure at 0x209e270a048>"
      ]
     },
     "metadata": {},
     "output_type": "display_data"
    }
   ],
   "source": [
    "sal_map = np.squeeze(Z.transpose(1,2,0))\n",
    "overlay_sal_map(img, sal_map)"
   ]
  }
 ],
 "metadata": {
  "anaconda-cloud": {},
  "kernelspec": {
   "display_name": "Python [conda root]",
   "language": "python",
   "name": "conda-root-py"
  },
  "language_info": {
   "codemirror_mode": {
    "name": "ipython",
    "version": 3
   },
   "file_extension": ".py",
   "mimetype": "text/x-python",
   "name": "python",
   "nbconvert_exporter": "python",
   "pygments_lexer": "ipython3",
   "version": "3.5.2"
  }
 },
 "nbformat": 4,
 "nbformat_minor": 1
}
